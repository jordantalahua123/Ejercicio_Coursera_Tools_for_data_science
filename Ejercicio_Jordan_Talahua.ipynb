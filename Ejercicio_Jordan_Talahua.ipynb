{
 "cells": [
  {
   "cell_type": "markdown",
   "metadata": {},
   "source": [
    "<center>\n",
    "    <img src=\"https://cf-courses-data.s3.us.cloud-object-storage.appdomain.cloud/IBMDeveloperSkillsNetwork-DS0105EN-SkillsNetwork/labs/Module2/images/SN_web_lightmode.png\" width=\"300\" alt=\"cognitiveclass.ai logo\">\n",
    "</center>\n"
   ]
  },
  {
   "cell_type": "markdown",
   "metadata": {},
   "source": [
    "#### Add your code below following the instructions given in the course\n"
   ]
  },
  {
   "cell_type": "markdown",
   "metadata": {
    "tags": []
   },
   "source": [
    "# Título del notebook"
   ]
  },
  {
   "cell_type": "code",
   "execution_count": null,
   "metadata": {},
   "outputs": [],
   "source": [
    "## Introducción\n",
    "\n",
    "Este notebook se enfoca en las herramientas y técnicas necesarias para el análisis de datos. Se presentarán ejemplos de las herramientas y bibliotecas más populares utilizadas en el análisis de datos.\n"
   ]
  },
  {
   "cell_type": "code",
   "execution_count": null,
   "metadata": {},
   "outputs": [],
   "source": [
    "## Lenguajes de ciencia de datos\n",
    "\n",
    "* Python\n",
    "* R\n",
    "* Matlab\n",
    "* Julia"
   ]
  },
  {
   "cell_type": "code",
   "execution_count": null,
   "metadata": {},
   "outputs": [],
   "source": [
    "## Bibliotecas de ciencia de datos\n",
    "\n",
    "* Pandas\n",
    "* NumPy\n",
    "* Scikit-learn\n",
    "* TensorFlow\n",
    "* Keras\n",
    "* PyTorch"
   ]
  },
  {
   "cell_type": "code",
   "execution_count": null,
   "metadata": {},
   "outputs": [],
   "source": [
    "## Herramientas de ciencia de datos\n",
    "\n",
    "| Herramienta | Descripción |\n",
    "| --- | --- |\n",
    "| Jupyter Notebook | Entorno de desarrollo interactivo |\n",
    "| Tableau | Visualización de datos |\n",
    "| Apache Spark | Análisis de Big Data |\n",
    "| SQL | Lenguaje de consulta de bases de datos |\n",
    "| Git | Control de versiones |\n",
    "| Hadoop | Framework para procesamiento de Big Data |"
   ]
  },
  {
   "cell_type": "code",
   "execution_count": null,
   "metadata": {},
   "outputs": [],
   "source": [
    "## Ejemplos de expresiones aritméticas\n",
    "\n",
    "A continuación, se presentan algunos ejemplos de expresiones aritméticas simples:\n",
    "\n",
    "* Suma: 2 + 2\n",
    "* Resta: 5 - 3\n",
    "* Multiplicación: 3 * 4\n",
    "* División: 8 / 2"
   ]
  },
  {
   "cell_type": "code",
   "execution_count": null,
   "metadata": {},
   "outputs": [],
   "source": [
    "# Multiplicación y suma de números\n",
    "a = 5\n",
    "b = 3\n",
    "print(\"La multiplicación de a y b es:\", a * b)\n",
    "print(\"La suma de a y b es:\", a + b)\n"
   ]
  },
  {
   "cell_type": "code",
   "execution_count": 6,
   "metadata": {},
   "outputs": [
    {
     "name": "stdout",
     "output_type": "stream",
     "text": [
      "150 minutos son 2.5 horas\n"
     ]
    }
   ],
   "source": [
    "# Conversión de minutos a horas\n",
    "minutos = 150\n",
    "horas = minutos / 60\n",
    "print(minutos, \"minutos son\", horas, \"horas\")"
   ]
  },
  {
   "cell_type": "code",
   "execution_count": null,
   "metadata": {},
   "outputs": [],
   "source": [
    "## Objetivos\n",
    "\n",
    "Los objetivos de este notebook son:\n",
    "\n",
    "1. Familiarizarse con Jupyterlite Notebook.\n",
    "2. Aprender algunos conceptos básicos de ciencia de datos.\n",
    "3. Realizar algunas operaciones aritméticas simples."
   ]
  },
  {
   "cell_type": "code",
   "execution_count": null,
   "metadata": {},
   "outputs": [],
   "source": [
    "## Autor\n",
    "\n",
    "Este notebook fue creado por Jordan Talahua.\n"
   ]
  },
  {
   "cell_type": "code",
   "execution_count": null,
   "metadata": {},
   "outputs": [],
   "source": []
  }
 ],
 "metadata": {
  "kernelspec": {
   "display_name": "Python",
   "language": "python",
   "name": "conda-env-python-py"
  },
  "language_info": {
   "codemirror_mode": {
    "name": "ipython",
    "version": 3
   },
   "file_extension": ".py",
   "mimetype": "text/x-python",
   "name": "python",
   "nbconvert_exporter": "python",
   "pygments_lexer": "ipython3",
   "version": "3.7.12"
  }
 },
 "nbformat": 4,
 "nbformat_minor": 4
}
